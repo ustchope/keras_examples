{
 "cells": [
  {
   "cell_type": "code",
   "execution_count": 2,
   "id": "amber-ensemble",
   "metadata": {},
   "outputs": [
    {
     "name": "stdout",
     "output_type": "stream",
     "text": [
      "time: 523 ms (started: 2021-08-26 22:53:22 +08:00)\n"
     ]
    }
   ],
   "source": [
    "# 自动计算cell的计算时间\n",
    "%load_ext autotime\n",
    "\n",
    "%matplotlib inline\n",
    "%config InlineBackend.figure_format='svg' #矢量图设置，让绘图更清晰"
   ]
  },
  {
   "cell_type": "code",
   "execution_count": null,
   "id": "happy-psychology",
   "metadata": {},
   "outputs": [],
   "source": [
    "%%bash\n",
    "\n",
    "# 增加更新\n",
    "git add *.ipynb *.md\n",
    "\n",
    "git remote -v\n",
    "\n",
    "git commit -m '更新 #9  Aug 26, 2021'\n",
    "\n",
    "#git push origin master\n",
    "git push"
   ]
  },
  {
   "cell_type": "code",
   "execution_count": null,
   "id": "precise-south",
   "metadata": {},
   "outputs": [],
   "source": [
    "%%bash\n",
    "\n",
    "# 增加更新\n",
    "git add *.ipynb *.md\n",
    "\n",
    "git remote -v\n",
    "\n",
    "git commit -m '更新 #1 Aug 26, 2021'\n",
    "\n",
    "#git push origin master\n",
    "git push"
   ]
  },
  {
   "cell_type": "code",
   "execution_count": 3,
   "id": "eight-psychiatry",
   "metadata": {},
   "outputs": [
    {
     "name": "stdout",
     "output_type": "stream",
     "text": [
      "time: 3.09 s (started: 2021-08-26 22:54:14 +08:00)\n"
     ]
    }
   ],
   "source": [
    "#设置使用的gpu\n",
    "import tensorflow as tf\n",
    "from tensorflow import keras\n",
    "\n",
    "gpus = tf.config.list_physical_devices(\"GPU\")\n",
    "\n",
    "if gpus:\n",
    "   \n",
    "    gpu0 = gpus[0] #如果有多个GPU，仅使用第0个GPU\n",
    "    tf.config.experimental.set_memory_growth(gpu0, True) #设置GPU显存用量按需使用\n",
    "    # 或者也可以设置GPU显存为固定使用量(例如：4G)\n",
    "    #tf.config.experimental.set_virtual_device_configuration(gpu0,\n",
    "    #    [tf.config.experimental.VirtualDeviceConfiguration(memory_limit=4096)]) \n",
    "    tf.config.set_visible_devices([gpu0],\"GPU\")"
   ]
  },
  {
   "cell_type": "code",
   "execution_count": 4,
   "id": "international-dylan",
   "metadata": {},
   "outputs": [
    {
     "data": {
      "text/plain": [
       "'2.6.0'"
      ]
     },
     "execution_count": 4,
     "metadata": {},
     "output_type": "execute_result"
    },
    {
     "name": "stdout",
     "output_type": "stream",
     "text": [
      "time: 5.88 ms (started: 2021-08-26 22:54:40 +08:00)\n"
     ]
    }
   ],
   "source": [
    "tf.__version__"
   ]
  },
  {
   "cell_type": "markdown",
   "id": "tested-bikini",
   "metadata": {},
   "source": [
    "# 简单的自定义层示例：Antirectifier"
   ]
  },
  {
   "cell_type": "markdown",
   "id": "female-energy",
   "metadata": {},
   "source": [
    "## 介绍\n",
    "此示例展示了如何使用 Antirectifier 层（最初在 2016 年 1 月作为 Keras 示例脚本提出）创建自定义层，这是 ReLU 的替代方案。 它不是将输入的负部分归零，而是将负部分和正部分分开，并返回两者绝对值的串联。 这避免了信息丢失，代价是维度增加。 为了修复维数增加，我们将特征线性组合回原始大小的空间。"
   ]
  },
  {
   "cell_type": "markdown",
   "id": "structural-telephone",
   "metadata": {},
   "source": [
    "## 设置"
   ]
  },
  {
   "cell_type": "code",
   "execution_count": 5,
   "id": "floating-surname",
   "metadata": {},
   "outputs": [
    {
     "name": "stdout",
     "output_type": "stream",
     "text": [
      "time: 1.1 s (started: 2021-08-26 22:58:13 +08:00)\n"
     ]
    }
   ],
   "source": [
    "import tensorflow as tf\n",
    "from tensorflow import keras\n",
    "from tensorflow.keras import layers"
   ]
  },
  {
   "cell_type": "markdown",
   "id": "educational-gather",
   "metadata": {},
   "source": [
    "## 抗整流层"
   ]
  },
  {
   "cell_type": "code",
   "execution_count": 6,
   "id": "living-milton",
   "metadata": {},
   "outputs": [
    {
     "name": "stdout",
     "output_type": "stream",
     "text": [
      "time: 2.42 ms (started: 2021-08-26 23:00:43 +08:00)\n"
     ]
    }
   ],
   "source": [
    "class Antirectifier(layers.Layer):\n",
    "    def __init__(self, initializer=\"he_normal\", **kwargs):\n",
    "        super(Antirectifier, self).__init__(**kwargs)\n",
    "        self.initializer = keras.initializers.get(initializer)\n",
    "\n",
    "    def build(self, input_shape):\n",
    "        output_dim = input_shape[-1]\n",
    "        self.kernel = self.add_weight(\n",
    "            shape=(output_dim * 2, output_dim),\n",
    "            initializer=self.initializer,\n",
    "            name=\"kernel\",\n",
    "            trainable=True,\n",
    "        )\n",
    "\n",
    "    def call(self, inputs):\n",
    "        inputs -= tf.reduce_mean(inputs, axis=-1, keepdims=True)\n",
    "        pos = tf.nn.relu(inputs)\n",
    "        neg = tf.nn.relu(-inputs)\n",
    "        concatenated = tf.concat([pos, neg], axis=-1)\n",
    "        mixed = tf.matmul(concatenated, self.kernel)\n",
    "        return mixed\n",
    "\n",
    "    def get_config(self):\n",
    "        # Implement get_config to enable serialization. This is optional.\n",
    "        base_config = super(Antirectifier, self).get_config()\n",
    "        config = {\"initializer\": keras.initializers.serialize(self.initializer)}\n",
    "        return dict(list(base_config.items()) + list(config.items()))"
   ]
  },
  {
   "cell_type": "markdown",
   "id": "developed-palestine",
   "metadata": {},
   "source": [
    "让我们在 MNIST 上试驾一下"
   ]
  },
  {
   "cell_type": "code",
   "execution_count": 7,
   "id": "solved-official",
   "metadata": {},
   "outputs": [
    {
     "name": "stdout",
     "output_type": "stream",
     "text": [
      "60000 train samples\n",
      "10000 test samples\n",
      "Epoch 1/20\n",
      "399/399 [==============================] - 6s 10ms/step - loss: 0.3845 - sparse_categorical_accuracy: 0.8872 - val_loss: 0.2007 - val_sparse_categorical_accuracy: 0.9458\n",
      "Epoch 2/20\n",
      "399/399 [==============================] - 4s 10ms/step - loss: 0.1762 - sparse_categorical_accuracy: 0.9511 - val_loss: 0.2024 - val_sparse_categorical_accuracy: 0.9469\n",
      "Epoch 3/20\n",
      "399/399 [==============================] - 4s 9ms/step - loss: 0.1402 - sparse_categorical_accuracy: 0.9623 - val_loss: 0.2007 - val_sparse_categorical_accuracy: 0.9542\n",
      "Epoch 4/20\n",
      "399/399 [==============================] - 4s 10ms/step - loss: 0.1160 - sparse_categorical_accuracy: 0.9685 - val_loss: 0.3924 - val_sparse_categorical_accuracy: 0.9252\n",
      "Epoch 5/20\n",
      "399/399 [==============================] - 4s 9ms/step - loss: 0.1038 - sparse_categorical_accuracy: 0.9733 - val_loss: 0.2550 - val_sparse_categorical_accuracy: 0.9466\n",
      "Epoch 6/20\n",
      "399/399 [==============================] - 4s 9ms/step - loss: 0.0892 - sparse_categorical_accuracy: 0.9768 - val_loss: 0.1267 - val_sparse_categorical_accuracy: 0.9739\n",
      "Epoch 7/20\n",
      "399/399 [==============================] - 4s 9ms/step - loss: 0.0831 - sparse_categorical_accuracy: 0.9789 - val_loss: 0.2242 - val_sparse_categorical_accuracy: 0.9611\n",
      "Epoch 8/20\n",
      "399/399 [==============================] - 4s 9ms/step - loss: 0.0768 - sparse_categorical_accuracy: 0.9811 - val_loss: 0.1388 - val_sparse_categorical_accuracy: 0.9750\n",
      "Epoch 9/20\n",
      "399/399 [==============================] - 4s 9ms/step - loss: 0.0679 - sparse_categorical_accuracy: 0.9829 - val_loss: 0.1265 - val_sparse_categorical_accuracy: 0.9753\n",
      "Epoch 10/20\n",
      "399/399 [==============================] - 4s 10ms/step - loss: 0.0637 - sparse_categorical_accuracy: 0.9843 - val_loss: 0.1207 - val_sparse_categorical_accuracy: 0.9789\n",
      "Epoch 11/20\n",
      "399/399 [==============================] - 4s 10ms/step - loss: 0.0590 - sparse_categorical_accuracy: 0.9852 - val_loss: 0.1929 - val_sparse_categorical_accuracy: 0.9607\n",
      "Epoch 12/20\n",
      "399/399 [==============================] - 4s 10ms/step - loss: 0.0582 - sparse_categorical_accuracy: 0.9863 - val_loss: 0.1387 - val_sparse_categorical_accuracy: 0.9787\n",
      "Epoch 13/20\n",
      "399/399 [==============================] - 4s 9ms/step - loss: 0.0584 - sparse_categorical_accuracy: 0.9871 - val_loss: 0.1813 - val_sparse_categorical_accuracy: 0.9713\n",
      "Epoch 14/20\n",
      "399/399 [==============================] - 4s 10ms/step - loss: 0.0568 - sparse_categorical_accuracy: 0.9870 - val_loss: 0.1958 - val_sparse_categorical_accuracy: 0.9730\n",
      "Epoch 15/20\n",
      "399/399 [==============================] - 4s 10ms/step - loss: 0.0567 - sparse_categorical_accuracy: 0.9881 - val_loss: 0.3341 - val_sparse_categorical_accuracy: 0.9596\n",
      "Epoch 16/20\n",
      "399/399 [==============================] - 4s 10ms/step - loss: 0.0569 - sparse_categorical_accuracy: 0.9882 - val_loss: 0.2173 - val_sparse_categorical_accuracy: 0.9726\n",
      "Epoch 17/20\n",
      "399/399 [==============================] - 4s 9ms/step - loss: 0.0546 - sparse_categorical_accuracy: 0.9892 - val_loss: 0.2073 - val_sparse_categorical_accuracy: 0.9744\n",
      "Epoch 18/20\n",
      "399/399 [==============================] - 4s 10ms/step - loss: 0.0546 - sparse_categorical_accuracy: 0.9893 - val_loss: 0.1764 - val_sparse_categorical_accuracy: 0.9792\n",
      "Epoch 19/20\n",
      "399/399 [==============================] - 4s 9ms/step - loss: 0.0537 - sparse_categorical_accuracy: 0.9892 - val_loss: 0.2576 - val_sparse_categorical_accuracy: 0.9733\n",
      "Epoch 20/20\n",
      "399/399 [==============================] - 4s 9ms/step - loss: 0.0597 - sparse_categorical_accuracy: 0.9894 - val_loss: 0.1986 - val_sparse_categorical_accuracy: 0.9788\n",
      "313/313 [==============================] - 2s 7ms/step - loss: 0.2112 - sparse_categorical_accuracy: 0.9761\n"
     ]
    },
    {
     "data": {
      "text/plain": [
       "[0.21115773916244507, 0.9761000275611877]"
      ]
     },
     "execution_count": 7,
     "metadata": {},
     "output_type": "execute_result"
    },
    {
     "name": "stdout",
     "output_type": "stream",
     "text": [
      "time: 1min 23s (started: 2021-08-26 23:01:14 +08:00)\n"
     ]
    }
   ],
   "source": [
    "# Training parameters\n",
    "batch_size = 128\n",
    "num_classes = 10\n",
    "epochs = 20\n",
    "\n",
    "# The data, split between train and test sets\n",
    "(x_train, y_train), (x_test, y_test) = keras.datasets.mnist.load_data()\n",
    "\n",
    "x_train = x_train.reshape(-1, 784)\n",
    "x_test = x_test.reshape(-1, 784)\n",
    "x_train = x_train.astype(\"float32\")\n",
    "x_test = x_test.astype(\"float32\")\n",
    "x_train /= 255\n",
    "x_test /= 255\n",
    "print(x_train.shape[0], \"train samples\")\n",
    "print(x_test.shape[0], \"test samples\")\n",
    "\n",
    "# Build the model\n",
    "model = keras.Sequential(\n",
    "    [\n",
    "        keras.Input(shape=(784,)),\n",
    "        layers.Dense(256),\n",
    "        Antirectifier(),\n",
    "        layers.Dense(256),\n",
    "        Antirectifier(),\n",
    "        layers.Dropout(0.5),\n",
    "        layers.Dense(10),\n",
    "    ]\n",
    ")\n",
    "\n",
    "# Compile the model\n",
    "model.compile(\n",
    "    loss=keras.losses.SparseCategoricalCrossentropy(from_logits=True),\n",
    "    optimizer=keras.optimizers.RMSprop(),\n",
    "    metrics=[keras.metrics.SparseCategoricalAccuracy()],\n",
    ")\n",
    "\n",
    "# Train the model\n",
    "model.fit(x_train, y_train, batch_size=batch_size, epochs=epochs, validation_split=0.15)\n",
    "\n",
    "# Test the model\n",
    "model.evaluate(x_test, y_test)"
   ]
  },
  {
   "cell_type": "markdown",
   "id": "urban-newspaper",
   "metadata": {},
   "source": [
    "# 概率贝叶斯神经网络"
   ]
  },
  {
   "cell_type": "markdown",
   "id": "extensive-organization",
   "metadata": {},
   "source": [
    "## 介绍\n",
    "对深度学习采用概率方法可以考虑不确定性，因此模型可以为不正确的预测分配较少的置信度。 由于标签或模型中的测量误差或噪声，由于模型有效学习的数据可用性不足，可以在数据中找到不确定性的来源。\n",
    "\n",
    "这个例子演示了如何构建基本的概率贝叶斯神经网络来解释这两种类型的不确定性。 我们使用与 Keras API 兼容的 TensorFlow Probability 库。\n",
    "\n",
    "此示例需要 TensorFlow 2.3 或更高版本。 您可以使用以下命令安装 Tensorflow Probability："
   ]
  },
  {
   "cell_type": "code",
   "execution_count": null,
   "id": "organic-approval",
   "metadata": {},
   "outputs": [],
   "source": [
    "pip install tensorflow-probability -U"
   ]
  },
  {
   "cell_type": "markdown",
   "id": "mature-diving",
   "metadata": {},
   "source": [
    "## 数据集\n",
    "我们使用 TensorFlow 数据集中提供的 Wine Quality 数据集。 我们使用 red wine 子集，其中包含 4,898 个示例。 该数据集具有葡萄酒的 11 个数值理化特征，任务是预测葡萄酒质量，即 0 到 10 之间的分数。在本示例中，我们将其视为回归任务。\n",
    "\n",
    "您可以使用以下命令安装 TensorFlow 数据集："
   ]
  },
  {
   "cell_type": "code",
   "execution_count": null,
   "id": "recognized-paste",
   "metadata": {},
   "outputs": [],
   "source": [
    "pip install tensorflow-datasets"
   ]
  },
  {
   "cell_type": "markdown",
   "id": "authentic-twenty",
   "metadata": {},
   "source": [
    "## 设置"
   ]
  },
  {
   "cell_type": "code",
   "execution_count": 10,
   "id": "configured-burner",
   "metadata": {},
   "outputs": [
    {
     "name": "stdout",
     "output_type": "stream",
     "text": [
      "time: 1.47 s (started: 2021-08-27 00:40:15 +08:00)\n"
     ]
    }
   ],
   "source": [
    "import numpy as np\n",
    "import tensorflow as tf\n",
    "from tensorflow import keras\n",
    "from tensorflow.keras import layers\n",
    "import tensorflow_datasets as tfds\n",
    "import tensorflow_probability as tfp"
   ]
  },
  {
   "cell_type": "markdown",
   "id": "documentary-maximum",
   "metadata": {},
   "source": [
    "## 创建训练和评估数据集\n",
    "在这里，我们使用 tfds.load() 加载 wine_quality 数据集，并将目标特征转换为浮点。 然后，我们打乱数据集并将其拆分为训练集和测试集。 我们将第一个 train_size 示例作为训练分割，其余作为测试分割。"
   ]
  },
  {
   "cell_type": "code",
   "execution_count": 11,
   "id": "interstate-economics",
   "metadata": {},
   "outputs": [
    {
     "name": "stdout",
     "output_type": "stream",
     "text": [
      "time: 1.13 ms (started: 2021-08-27 00:41:57 +08:00)\n"
     ]
    }
   ],
   "source": [
    "def get_train_and_test_splits(train_size, batch_size=1):\n",
    "    # We prefetch with a buffer the same size as the dataset because th dataset\n",
    "    # is very small and fits into memory.\n",
    "    dataset = (\n",
    "        tfds.load(name=\"wine_quality\", as_supervised=True, split=\"train\")\n",
    "        .map(lambda x, y: (x, tf.cast(y, tf.float32)))\n",
    "        .prefetch(buffer_size=dataset_size)\n",
    "        .cache()\n",
    "    )\n",
    "    # We shuffle with a buffer the same size as the dataset.\n",
    "    train_dataset = (\n",
    "        dataset.take(train_size).shuffle(buffer_size=train_size).batch(batch_size)\n",
    "    )\n",
    "    test_dataset = dataset.skip(train_size).batch(batch_size)\n",
    "\n",
    "    return train_dataset, test_dataset"
   ]
  },
  {
   "cell_type": "markdown",
   "id": "gothic-exchange",
   "metadata": {},
   "source": [
    "## 编译、训练和评估模型"
   ]
  },
  {
   "cell_type": "code",
   "execution_count": 12,
   "id": "geological-discipline",
   "metadata": {},
   "outputs": [
    {
     "name": "stdout",
     "output_type": "stream",
     "text": [
      "time: 1.65 ms (started: 2021-08-27 00:42:48 +08:00)\n"
     ]
    }
   ],
   "source": [
    "hidden_units = [8, 8]\n",
    "learning_rate = 0.001\n",
    "\n",
    "\n",
    "def run_experiment(model, loss, train_dataset, test_dataset):\n",
    "\n",
    "    model.compile(\n",
    "        optimizer=keras.optimizers.RMSprop(learning_rate=learning_rate),\n",
    "        loss=loss,\n",
    "        metrics=[keras.metrics.RootMeanSquaredError()],\n",
    "    )\n",
    "\n",
    "    print(\"Start training the model...\")\n",
    "    model.fit(train_dataset, epochs=num_epochs, validation_data=test_dataset)\n",
    "    print(\"Model training finished.\")\n",
    "    _, rmse = model.evaluate(train_dataset, verbose=0)\n",
    "    print(f\"Train RMSE: {round(rmse, 3)}\")\n",
    "\n",
    "    print(\"Evaluating model performance...\")\n",
    "    _, rmse = model.evaluate(test_dataset, verbose=0)\n",
    "    print(f\"Test RMSE: {round(rmse, 3)}\")"
   ]
  },
  {
   "cell_type": "markdown",
   "id": "industrial-classic",
   "metadata": {},
   "source": [
    "## 创建模型输入"
   ]
  },
  {
   "cell_type": "code",
   "execution_count": 13,
   "id": "heard-winter",
   "metadata": {},
   "outputs": [
    {
     "name": "stdout",
     "output_type": "stream",
     "text": [
      "time: 675 µs (started: 2021-08-27 00:43:28 +08:00)\n"
     ]
    }
   ],
   "source": [
    "FEATURE_NAMES = [\n",
    "    \"fixed acidity\",\n",
    "    \"volatile acidity\",\n",
    "    \"citric acid\",\n",
    "    \"residual sugar\",\n",
    "    \"chlorides\",\n",
    "    \"free sulfur dioxide\",\n",
    "    \"total sulfur dioxide\",\n",
    "    \"density\",\n",
    "    \"pH\",\n",
    "    \"sulphates\",\n",
    "    \"alcohol\",\n",
    "]\n",
    "\n",
    "\n",
    "def create_model_inputs():\n",
    "    inputs = {}\n",
    "    for feature_name in FEATURE_NAMES:\n",
    "        inputs[feature_name] = layers.Input(\n",
    "            name=feature_name, shape=(1,), dtype=tf.float32\n",
    "        )\n",
    "    return inputs"
   ]
  },
  {
   "cell_type": "markdown",
   "id": "electrical-pharmaceutical",
   "metadata": {},
   "source": [
    "## 实验一：标准神经网络\n",
    "我们创建了一个标准的确定性神经网络模型作为基线。"
   ]
  },
  {
   "cell_type": "code",
   "execution_count": 14,
   "id": "affiliated-premises",
   "metadata": {},
   "outputs": [
    {
     "name": "stdout",
     "output_type": "stream",
     "text": [
      "time: 1.21 ms (started: 2021-08-27 00:44:13 +08:00)\n"
     ]
    }
   ],
   "source": [
    "def create_baseline_model():\n",
    "    inputs = create_model_inputs()\n",
    "    input_values = [value for _, value in sorted(inputs.items())]\n",
    "    features = keras.layers.concatenate(input_values)\n",
    "    features = layers.BatchNormalization()(features)\n",
    "\n",
    "    # Create hidden layers with deterministic weights using the Dense layer.\n",
    "    for units in hidden_units:\n",
    "        features = layers.Dense(units, activation=\"sigmoid\")(features)\n",
    "    # The output is deterministic: a single point estimate.\n",
    "    outputs = layers.Dense(units=1)(features)\n",
    "\n",
    "    model = keras.Model(inputs=inputs, outputs=outputs)\n",
    "    return model"
   ]
  },
  {
   "cell_type": "markdown",
   "id": "quantitative-latino",
   "metadata": {},
   "source": [
    "让我们将 wine 数据集拆分为训练集和测试集，分别有 85% 和 15% 的示例"
   ]
  },
  {
   "cell_type": "code",
   "execution_count": 15,
   "id": "circular-interview",
   "metadata": {},
   "outputs": [
    {
     "name": "stdout",
     "output_type": "stream",
     "text": [
      "\u001b[1mDownloading and preparing dataset Unknown size (download: Unknown size, generated: Unknown size, total: Unknown size) to /home/huangwei/tensorflow_datasets/wine_quality/white/1.0.0...\u001b[0m\n"
     ]
    },
    {
     "data": {
      "application/vnd.jupyter.widget-view+json": {
       "model_id": "d0fe19cf551346359aff473682de0fe5",
       "version_major": 2,
       "version_minor": 0
      },
      "text/plain": [
       "Dl Completed...: 0 url [00:00, ? url/s]"
      ]
     },
     "metadata": {},
     "output_type": "display_data"
    },
    {
     "data": {
      "application/vnd.jupyter.widget-view+json": {
       "model_id": "3baedbcdb08f459da9127e62d38437f8",
       "version_major": 2,
       "version_minor": 0
      },
      "text/plain": [
       "Dl Size...: 0 MiB [00:00, ? MiB/s]"
      ]
     },
     "metadata": {},
     "output_type": "display_data"
    },
    {
     "data": {
      "application/vnd.jupyter.widget-view+json": {
       "model_id": "4993c338b0f740f1be16b48326d5e5bf",
       "version_major": 2,
       "version_minor": 0
      },
      "text/plain": [
       "Generating splits...:   0%|          | 0/1 [00:00<?, ? splits/s]"
      ]
     },
     "metadata": {},
     "output_type": "display_data"
    },
    {
     "data": {
      "application/vnd.jupyter.widget-view+json": {
       "model_id": "8cf97e7d45354f31bd67fe183ae2bd8a",
       "version_major": 2,
       "version_minor": 0
      },
      "text/plain": [
       "Generating train examples...: 0 examples [00:00, ? examples/s]"
      ]
     },
     "metadata": {},
     "output_type": "display_data"
    },
    {
     "data": {
      "application/vnd.jupyter.widget-view+json": {
       "model_id": "1b0a54888eb84761a17ba23e2a93cb3f",
       "version_major": 2,
       "version_minor": 0
      },
      "text/plain": [
       "Shuffling wine_quality-train.tfrecord...:   0%|          | 0/4898 [00:00<?, ? examples/s]"
      ]
     },
     "metadata": {},
     "output_type": "display_data"
    },
    {
     "name": "stdout",
     "output_type": "stream",
     "text": [
      "\u001b[1mDataset wine_quality downloaded and prepared to /home/huangwei/tensorflow_datasets/wine_quality/white/1.0.0. Subsequent calls will reuse this data.\u001b[0m\n",
      "time: 1min 15s (started: 2021-08-27 00:44:48 +08:00)\n"
     ]
    }
   ],
   "source": [
    "dataset_size = 4898\n",
    "batch_size = 256\n",
    "train_size = int(dataset_size * 0.85)\n",
    "train_dataset, test_dataset = get_train_and_test_splits(train_size, batch_size)"
   ]
  },
  {
   "cell_type": "markdown",
   "id": "hairy-sodium",
   "metadata": {},
   "source": [
    "现在让我们训练基线模型。 我们使用 MeanSquaredError 作为损失函数。"
   ]
  },
  {
   "cell_type": "code",
   "execution_count": 16,
   "id": "coral-criticism",
   "metadata": {},
   "outputs": [
    {
     "name": "stdout",
     "output_type": "stream",
     "text": [
      "Start training the model...\n",
      "Epoch 1/100\n",
      "17/17 [==============================] - 2s 64ms/step - loss: 41.6719 - root_mean_squared_error: 6.4554 - val_loss: 38.9705 - val_root_mean_squared_error: 6.2426\n",
      "Epoch 2/100\n",
      "17/17 [==============================] - 0s 21ms/step - loss: 39.1777 - root_mean_squared_error: 6.2592 - val_loss: 37.3527 - val_root_mean_squared_error: 6.1117\n",
      "Epoch 3/100\n",
      "17/17 [==============================] - 0s 20ms/step - loss: 37.0985 - root_mean_squared_error: 6.0909 - val_loss: 35.6854 - val_root_mean_squared_error: 5.9737\n",
      "Epoch 4/100\n",
      "17/17 [==============================] - 0s 19ms/step - loss: 35.1338 - root_mean_squared_error: 5.9274 - val_loss: 33.9785 - val_root_mean_squared_error: 5.8291\n",
      "Epoch 5/100\n",
      "17/17 [==============================] - 0s 20ms/step - loss: 33.2495 - root_mean_squared_error: 5.7662 - val_loss: 32.2820 - val_root_mean_squared_error: 5.6817\n",
      "Epoch 6/100\n",
      "17/17 [==============================] - 0s 19ms/step - loss: 31.4391 - root_mean_squared_error: 5.6071 - val_loss: 30.6043 - val_root_mean_squared_error: 5.5321\n",
      "Epoch 7/100\n",
      "17/17 [==============================] - 0s 19ms/step - loss: 29.6975 - root_mean_squared_error: 5.4495 - val_loss: 28.9824 - val_root_mean_squared_error: 5.3835\n",
      "Epoch 8/100\n",
      "17/17 [==============================] - 0s 20ms/step - loss: 28.0294 - root_mean_squared_error: 5.2943 - val_loss: 27.4158 - val_root_mean_squared_error: 5.2360\n",
      "Epoch 9/100\n",
      "17/17 [==============================] - 0s 20ms/step - loss: 26.4286 - root_mean_squared_error: 5.1409 - val_loss: 25.8844 - val_root_mean_squared_error: 5.0877\n",
      "Epoch 10/100\n",
      "17/17 [==============================] - 0s 21ms/step - loss: 24.8978 - root_mean_squared_error: 4.9898 - val_loss: 24.3939 - val_root_mean_squared_error: 4.9390\n",
      "Epoch 11/100\n",
      "17/17 [==============================] - 0s 20ms/step - loss: 23.4321 - root_mean_squared_error: 4.8407 - val_loss: 22.9506 - val_root_mean_squared_error: 4.7907\n",
      "Epoch 12/100\n",
      "17/17 [==============================] - 0s 19ms/step - loss: 22.0369 - root_mean_squared_error: 4.6943 - val_loss: 21.5582 - val_root_mean_squared_error: 4.6431\n",
      "Epoch 13/100\n",
      "17/17 [==============================] - 0s 19ms/step - loss: 20.7073 - root_mean_squared_error: 4.5505 - val_loss: 20.2177 - val_root_mean_squared_error: 4.4964\n",
      "Epoch 14/100\n",
      "17/17 [==============================] - 0s 19ms/step - loss: 19.4437 - root_mean_squared_error: 4.4095 - val_loss: 18.9322 - val_root_mean_squared_error: 4.3511\n",
      "Epoch 15/100\n",
      "17/17 [==============================] - 0s 19ms/step - loss: 18.2399 - root_mean_squared_error: 4.2708 - val_loss: 17.7081 - val_root_mean_squared_error: 4.2081\n",
      "Epoch 16/100\n",
      "17/17 [==============================] - 0s 20ms/step - loss: 17.0909 - root_mean_squared_error: 4.1341 - val_loss: 16.5324 - val_root_mean_squared_error: 4.0660\n",
      "Epoch 17/100\n",
      "17/17 [==============================] - 0s 22ms/step - loss: 15.9970 - root_mean_squared_error: 3.9996 - val_loss: 15.4197 - val_root_mean_squared_error: 3.9268\n",
      "Epoch 18/100\n",
      "17/17 [==============================] - 0s 19ms/step - loss: 14.9611 - root_mean_squared_error: 3.8680 - val_loss: 14.3780 - val_root_mean_squared_error: 3.7918\n",
      "Epoch 19/100\n",
      "17/17 [==============================] - 0s 21ms/step - loss: 13.9857 - root_mean_squared_error: 3.7397 - val_loss: 13.3966 - val_root_mean_squared_error: 3.6601\n",
      "Epoch 20/100\n",
      "17/17 [==============================] - 0s 20ms/step - loss: 13.0649 - root_mean_squared_error: 3.6145 - val_loss: 12.4821 - val_root_mean_squared_error: 3.5330\n",
      "Epoch 21/100\n",
      "17/17 [==============================] - 0s 20ms/step - loss: 12.2001 - root_mean_squared_error: 3.4929 - val_loss: 11.6260 - val_root_mean_squared_error: 3.4097\n",
      "Epoch 22/100\n",
      "17/17 [==============================] - 0s 20ms/step - loss: 11.3893 - root_mean_squared_error: 3.3748 - val_loss: 10.8268 - val_root_mean_squared_error: 3.2904\n",
      "Epoch 23/100\n",
      "17/17 [==============================] - 0s 21ms/step - loss: 10.6276 - root_mean_squared_error: 3.2600 - val_loss: 10.0821 - val_root_mean_squared_error: 3.1752\n",
      "Epoch 24/100\n",
      "17/17 [==============================] - 0s 19ms/step - loss: 9.9145 - root_mean_squared_error: 3.1487 - val_loss: 9.3896 - val_root_mean_squared_error: 3.0642\n",
      "Epoch 25/100\n",
      "17/17 [==============================] - 0s 20ms/step - loss: 9.2469 - root_mean_squared_error: 3.0409 - val_loss: 8.7416 - val_root_mean_squared_error: 2.9566\n",
      "Epoch 26/100\n",
      "17/17 [==============================] - 0s 20ms/step - loss: 8.6209 - root_mean_squared_error: 2.9361 - val_loss: 8.1394 - val_root_mean_squared_error: 2.8530\n",
      "Epoch 27/100\n",
      "17/17 [==============================] - 0s 19ms/step - loss: 8.0354 - root_mean_squared_error: 2.8347 - val_loss: 7.5749 - val_root_mean_squared_error: 2.7522\n",
      "Epoch 28/100\n",
      "17/17 [==============================] - 0s 19ms/step - loss: 7.4866 - root_mean_squared_error: 2.7362 - val_loss: 7.0485 - val_root_mean_squared_error: 2.6549\n",
      "Epoch 29/100\n",
      "17/17 [==============================] - 0s 21ms/step - loss: 6.9716 - root_mean_squared_error: 2.6404 - val_loss: 6.5541 - val_root_mean_squared_error: 2.5601\n",
      "Epoch 30/100\n",
      "17/17 [==============================] - 0s 22ms/step - loss: 6.4868 - root_mean_squared_error: 2.5469 - val_loss: 6.0910 - val_root_mean_squared_error: 2.4680\n",
      "Epoch 31/100\n",
      "17/17 [==============================] - 0s 19ms/step - loss: 6.0323 - root_mean_squared_error: 2.4561 - val_loss: 5.6564 - val_root_mean_squared_error: 2.3783\n",
      "Epoch 32/100\n",
      "17/17 [==============================] - 0s 20ms/step - loss: 5.6043 - root_mean_squared_error: 2.3673 - val_loss: 5.2468 - val_root_mean_squared_error: 2.2906\n",
      "Epoch 33/100\n",
      "17/17 [==============================] - 0s 20ms/step - loss: 5.2009 - root_mean_squared_error: 2.2805 - val_loss: 4.8637 - val_root_mean_squared_error: 2.2054\n",
      "Epoch 34/100\n",
      "17/17 [==============================] - 0s 20ms/step - loss: 4.8222 - root_mean_squared_error: 2.1960 - val_loss: 4.5021 - val_root_mean_squared_error: 2.1218\n",
      "Epoch 35/100\n",
      "17/17 [==============================] - 0s 21ms/step - loss: 4.4643 - root_mean_squared_error: 2.1129 - val_loss: 4.1628 - val_root_mean_squared_error: 2.0403\n",
      "Epoch 36/100\n",
      "17/17 [==============================] - 0s 21ms/step - loss: 4.1278 - root_mean_squared_error: 2.0317 - val_loss: 3.8406 - val_root_mean_squared_error: 1.9597\n",
      "Epoch 37/100\n",
      "17/17 [==============================] - 0s 21ms/step - loss: 3.8096 - root_mean_squared_error: 1.9518 - val_loss: 3.5418 - val_root_mean_squared_error: 1.8820\n",
      "Epoch 38/100\n",
      "17/17 [==============================] - 0s 19ms/step - loss: 3.5119 - root_mean_squared_error: 1.8740 - val_loss: 3.2585 - val_root_mean_squared_error: 1.8051\n",
      "Epoch 39/100\n",
      "17/17 [==============================] - 0s 20ms/step - loss: 3.2299 - root_mean_squared_error: 1.7972 - val_loss: 2.9916 - val_root_mean_squared_error: 1.7296\n",
      "Epoch 40/100\n",
      "17/17 [==============================] - 0s 20ms/step - loss: 2.9642 - root_mean_squared_error: 1.7217 - val_loss: 2.7419 - val_root_mean_squared_error: 1.6559\n",
      "Epoch 41/100\n",
      "17/17 [==============================] - 0s 20ms/step - loss: 2.7153 - root_mean_squared_error: 1.6478 - val_loss: 2.5067 - val_root_mean_squared_error: 1.5833\n",
      "Epoch 42/100\n",
      "17/17 [==============================] - 0s 20ms/step - loss: 2.4814 - root_mean_squared_error: 1.5752 - val_loss: 2.2885 - val_root_mean_squared_error: 1.5128\n",
      "Epoch 43/100\n",
      "17/17 [==============================] - 0s 23ms/step - loss: 2.2621 - root_mean_squared_error: 1.5040 - val_loss: 2.0832 - val_root_mean_squared_error: 1.4433\n",
      "Epoch 44/100\n",
      "17/17 [==============================] - 0s 19ms/step - loss: 2.0578 - root_mean_squared_error: 1.4345 - val_loss: 1.8932 - val_root_mean_squared_error: 1.3760\n",
      "Epoch 45/100\n",
      "17/17 [==============================] - 0s 20ms/step - loss: 1.8688 - root_mean_squared_error: 1.3670 - val_loss: 1.7194 - val_root_mean_squared_error: 1.3112\n",
      "Epoch 46/100\n",
      "17/17 [==============================] - 0s 19ms/step - loss: 1.6935 - root_mean_squared_error: 1.3013 - val_loss: 1.5588 - val_root_mean_squared_error: 1.2485\n",
      "Epoch 47/100\n",
      "17/17 [==============================] - 0s 20ms/step - loss: 1.5327 - root_mean_squared_error: 1.2380 - val_loss: 1.4117 - val_root_mean_squared_error: 1.1881\n",
      "Epoch 48/100\n",
      "17/17 [==============================] - 0s 19ms/step - loss: 1.3864 - root_mean_squared_error: 1.1775 - val_loss: 1.2797 - val_root_mean_squared_error: 1.1312\n",
      "Epoch 49/100\n",
      "17/17 [==============================] - 0s 19ms/step - loss: 1.2529 - root_mean_squared_error: 1.1193 - val_loss: 1.1597 - val_root_mean_squared_error: 1.0769\n",
      "Epoch 50/100\n",
      "17/17 [==============================] - 0s 23ms/step - loss: 1.1346 - root_mean_squared_error: 1.0652 - val_loss: 1.0571 - val_root_mean_squared_error: 1.0282\n",
      "Epoch 51/100\n",
      "17/17 [==============================] - 0s 19ms/step - loss: 1.0338 - root_mean_squared_error: 1.0168 - val_loss: 0.9748 - val_root_mean_squared_error: 0.9873\n",
      "Epoch 52/100\n",
      "17/17 [==============================] - 0s 21ms/step - loss: 0.9500 - root_mean_squared_error: 0.9747 - val_loss: 0.9043 - val_root_mean_squared_error: 0.9510\n",
      "Epoch 53/100\n",
      "17/17 [==============================] - 0s 20ms/step - loss: 0.8813 - root_mean_squared_error: 0.9388 - val_loss: 0.8529 - val_root_mean_squared_error: 0.9235\n",
      "Epoch 54/100\n",
      "17/17 [==============================] - 0s 19ms/step - loss: 0.8304 - root_mean_squared_error: 0.9113 - val_loss: 0.8174 - val_root_mean_squared_error: 0.9041\n",
      "Epoch 55/100\n",
      "17/17 [==============================] - 0s 20ms/step - loss: 0.7968 - root_mean_squared_error: 0.8926 - val_loss: 0.7992 - val_root_mean_squared_error: 0.8940\n",
      "Epoch 56/100\n",
      "17/17 [==============================] - 0s 20ms/step - loss: 0.7798 - root_mean_squared_error: 0.8830 - val_loss: 0.7940 - val_root_mean_squared_error: 0.8911\n",
      "Epoch 57/100\n",
      "17/17 [==============================] - 0s 21ms/step - loss: 0.7738 - root_mean_squared_error: 0.8797 - val_loss: 0.7928 - val_root_mean_squared_error: 0.8904\n",
      "Epoch 58/100\n",
      "17/17 [==============================] - 0s 19ms/step - loss: 0.7716 - root_mean_squared_error: 0.8784 - val_loss: 0.7922 - val_root_mean_squared_error: 0.8901\n",
      "Epoch 59/100\n",
      "17/17 [==============================] - 0s 19ms/step - loss: 0.7695 - root_mean_squared_error: 0.8772 - val_loss: 0.7905 - val_root_mean_squared_error: 0.8891\n",
      "Epoch 60/100\n",
      "17/17 [==============================] - 0s 21ms/step - loss: 0.7675 - root_mean_squared_error: 0.8761 - val_loss: 0.7886 - val_root_mean_squared_error: 0.8880\n",
      "Epoch 61/100\n",
      "17/17 [==============================] - 0s 19ms/step - loss: 0.7655 - root_mean_squared_error: 0.8749 - val_loss: 0.7864 - val_root_mean_squared_error: 0.8868\n",
      "Epoch 62/100\n",
      "17/17 [==============================] - 0s 20ms/step - loss: 0.7632 - root_mean_squared_error: 0.8736 - val_loss: 0.7820 - val_root_mean_squared_error: 0.8843\n",
      "Epoch 63/100\n",
      "17/17 [==============================] - 0s 20ms/step - loss: 0.7604 - root_mean_squared_error: 0.8720 - val_loss: 0.7790 - val_root_mean_squared_error: 0.8826\n",
      "Epoch 64/100\n",
      "17/17 [==============================] - 0s 19ms/step - loss: 0.7576 - root_mean_squared_error: 0.8704 - val_loss: 0.7758 - val_root_mean_squared_error: 0.8808\n",
      "Epoch 65/100\n",
      "17/17 [==============================] - 0s 19ms/step - loss: 0.7544 - root_mean_squared_error: 0.8686 - val_loss: 0.7723 - val_root_mean_squared_error: 0.8788\n",
      "Epoch 66/100\n",
      "17/17 [==============================] - 0s 19ms/step - loss: 0.7511 - root_mean_squared_error: 0.8666 - val_loss: 0.7677 - val_root_mean_squared_error: 0.8762\n",
      "Epoch 67/100\n",
      "17/17 [==============================] - 0s 19ms/step - loss: 0.7478 - root_mean_squared_error: 0.8647 - val_loss: 0.7637 - val_root_mean_squared_error: 0.8739\n",
      "Epoch 68/100\n",
      "17/17 [==============================] - 0s 19ms/step - loss: 0.7438 - root_mean_squared_error: 0.8624 - val_loss: 0.7600 - val_root_mean_squared_error: 0.8718\n",
      "Epoch 69/100\n",
      "17/17 [==============================] - 0s 19ms/step - loss: 0.7395 - root_mean_squared_error: 0.8599 - val_loss: 0.7557 - val_root_mean_squared_error: 0.8693\n",
      "Epoch 70/100\n",
      "17/17 [==============================] - 0s 24ms/step - loss: 0.7351 - root_mean_squared_error: 0.8574 - val_loss: 0.7514 - val_root_mean_squared_error: 0.8668\n",
      "Epoch 71/100\n",
      "17/17 [==============================] - 0s 19ms/step - loss: 0.7299 - root_mean_squared_error: 0.8543 - val_loss: 0.7444 - val_root_mean_squared_error: 0.8628\n",
      "Epoch 72/100\n",
      "17/17 [==============================] - 0s 19ms/step - loss: 0.7251 - root_mean_squared_error: 0.8515 - val_loss: 0.7371 - val_root_mean_squared_error: 0.8585\n",
      "Epoch 73/100\n",
      "17/17 [==============================] - 0s 20ms/step - loss: 0.7200 - root_mean_squared_error: 0.8485 - val_loss: 0.7316 - val_root_mean_squared_error: 0.8554\n",
      "Epoch 74/100\n",
      "17/17 [==============================] - 0s 20ms/step - loss: 0.7145 - root_mean_squared_error: 0.8453 - val_loss: 0.7253 - val_root_mean_squared_error: 0.8516\n",
      "Epoch 75/100\n",
      "17/17 [==============================] - 0s 20ms/step - loss: 0.7088 - root_mean_squared_error: 0.8419 - val_loss: 0.7176 - val_root_mean_squared_error: 0.8471\n",
      "Epoch 76/100\n",
      "17/17 [==============================] - 0s 20ms/step - loss: 0.7036 - root_mean_squared_error: 0.8388 - val_loss: 0.7120 - val_root_mean_squared_error: 0.8438\n",
      "Epoch 77/100\n",
      "17/17 [==============================] - 0s 22ms/step - loss: 0.6963 - root_mean_squared_error: 0.8345 - val_loss: 0.7052 - val_root_mean_squared_error: 0.8398\n",
      "Epoch 78/100\n",
      "17/17 [==============================] - 0s 19ms/step - loss: 0.6904 - root_mean_squared_error: 0.8309 - val_loss: 0.6969 - val_root_mean_squared_error: 0.8348\n",
      "Epoch 79/100\n",
      "17/17 [==============================] - 0s 19ms/step - loss: 0.6838 - root_mean_squared_error: 0.8269 - val_loss: 0.6898 - val_root_mean_squared_error: 0.8305\n",
      "Epoch 80/100\n",
      "17/17 [==============================] - 0s 19ms/step - loss: 0.6765 - root_mean_squared_error: 0.8225 - val_loss: 0.6817 - val_root_mean_squared_error: 0.8256\n",
      "Epoch 81/100\n",
      "17/17 [==============================] - 0s 19ms/step - loss: 0.6698 - root_mean_squared_error: 0.8184 - val_loss: 0.6731 - val_root_mean_squared_error: 0.8204\n",
      "Epoch 82/100\n",
      "17/17 [==============================] - 0s 19ms/step - loss: 0.6621 - root_mean_squared_error: 0.8137 - val_loss: 0.6651 - val_root_mean_squared_error: 0.8155\n",
      "Epoch 83/100\n",
      "17/17 [==============================] - 0s 20ms/step - loss: 0.6566 - root_mean_squared_error: 0.8103 - val_loss: 0.6583 - val_root_mean_squared_error: 0.8113\n",
      "Epoch 84/100\n",
      "17/17 [==============================] - 0s 21ms/step - loss: 0.6481 - root_mean_squared_error: 0.8050 - val_loss: 0.6490 - val_root_mean_squared_error: 0.8056\n",
      "Epoch 85/100\n",
      "17/17 [==============================] - 0s 19ms/step - loss: 0.6417 - root_mean_squared_error: 0.8011 - val_loss: 0.6418 - val_root_mean_squared_error: 0.8011\n",
      "Epoch 86/100\n",
      "17/17 [==============================] - 0s 19ms/step - loss: 0.6353 - root_mean_squared_error: 0.7971 - val_loss: 0.6338 - val_root_mean_squared_error: 0.7961\n",
      "Epoch 87/100\n",
      "17/17 [==============================] - 0s 20ms/step - loss: 0.6280 - root_mean_squared_error: 0.7925 - val_loss: 0.6266 - val_root_mean_squared_error: 0.7916\n",
      "Epoch 88/100\n",
      "17/17 [==============================] - 0s 19ms/step - loss: 0.6222 - root_mean_squared_error: 0.7888 - val_loss: 0.6192 - val_root_mean_squared_error: 0.7869\n",
      "Epoch 89/100\n",
      "17/17 [==============================] - 0s 20ms/step - loss: 0.6173 - root_mean_squared_error: 0.7857 - val_loss: 0.6138 - val_root_mean_squared_error: 0.7834\n",
      "Epoch 90/100\n",
      "17/17 [==============================] - 0s 19ms/step - loss: 0.6121 - root_mean_squared_error: 0.7824 - val_loss: 0.6089 - val_root_mean_squared_error: 0.7803\n",
      "Epoch 91/100\n",
      "17/17 [==============================] - 0s 21ms/step - loss: 0.6067 - root_mean_squared_error: 0.7789 - val_loss: 0.6033 - val_root_mean_squared_error: 0.7767\n",
      "Epoch 92/100\n",
      "17/17 [==============================] - 0s 19ms/step - loss: 0.6033 - root_mean_squared_error: 0.7767 - val_loss: 0.6017 - val_root_mean_squared_error: 0.7757\n",
      "Epoch 93/100\n",
      "17/17 [==============================] - 0s 19ms/step - loss: 0.6003 - root_mean_squared_error: 0.7748 - val_loss: 0.5945 - val_root_mean_squared_error: 0.7710\n",
      "Epoch 94/100\n",
      "17/17 [==============================] - 0s 19ms/step - loss: 0.5996 - root_mean_squared_error: 0.7743 - val_loss: 0.5904 - val_root_mean_squared_error: 0.7684\n",
      "Epoch 95/100\n",
      "17/17 [==============================] - 0s 19ms/step - loss: 0.5939 - root_mean_squared_error: 0.7707 - val_loss: 0.5881 - val_root_mean_squared_error: 0.7669\n",
      "Epoch 96/100\n",
      "17/17 [==============================] - 0s 20ms/step - loss: 0.5934 - root_mean_squared_error: 0.7703 - val_loss: 0.5842 - val_root_mean_squared_error: 0.7643\n",
      "Epoch 97/100\n",
      "17/17 [==============================] - 0s 20ms/step - loss: 0.5910 - root_mean_squared_error: 0.7688 - val_loss: 0.5824 - val_root_mean_squared_error: 0.7632\n",
      "Epoch 98/100\n",
      "17/17 [==============================] - 0s 21ms/step - loss: 0.5887 - root_mean_squared_error: 0.7673 - val_loss: 0.5795 - val_root_mean_squared_error: 0.7612\n",
      "Epoch 99/100\n",
      "17/17 [==============================] - 0s 19ms/step - loss: 0.5876 - root_mean_squared_error: 0.7666 - val_loss: 0.5800 - val_root_mean_squared_error: 0.7616\n",
      "Epoch 100/100\n",
      "17/17 [==============================] - 0s 19ms/step - loss: 0.5861 - root_mean_squared_error: 0.7656 - val_loss: 0.5757 - val_root_mean_squared_error: 0.7587\n",
      "Model training finished.\n",
      "Train RMSE: 0.764\n",
      "Evaluating model performance...\n",
      "Test RMSE: 0.759\n",
      "time: 41 s (started: 2021-08-27 00:46:04 +08:00)\n"
     ]
    }
   ],
   "source": [
    "num_epochs = 100\n",
    "mse_loss = keras.losses.MeanSquaredError()\n",
    "baseline_model = create_baseline_model()\n",
    "run_experiment(baseline_model, mse_loss, train_dataset, test_dataset)"
   ]
  },
  {
   "cell_type": "markdown",
   "id": "otherwise-jumping",
   "metadata": {},
   "source": [
    "我们从测试集中抽取样本使用该模型来获得对它们的预测。 请注意，由于基线模型是确定性的，因此我们为每个测试示例得到一个单点估计预测，没有关于模型和预测的不确定性的信息。"
   ]
  },
  {
   "cell_type": "code",
   "execution_count": 17,
   "id": "concrete-polls",
   "metadata": {},
   "outputs": [
    {
     "name": "stdout",
     "output_type": "stream",
     "text": [
      "Predicted: 6.3 - Actual: 8.0\n",
      "Predicted: 6.6 - Actual: 6.0\n",
      "Predicted: 6.3 - Actual: 6.0\n",
      "Predicted: 6.6 - Actual: 7.0\n",
      "Predicted: 6.0 - Actual: 6.0\n",
      "Predicted: 5.5 - Actual: 5.0\n",
      "Predicted: 5.6 - Actual: 6.0\n",
      "Predicted: 6.5 - Actual: 7.0\n",
      "Predicted: 6.3 - Actual: 7.0\n",
      "Predicted: 5.5 - Actual: 5.0\n",
      "time: 166 ms (started: 2021-08-27 00:46:45 +08:00)\n"
     ]
    }
   ],
   "source": [
    "sample = 10\n",
    "examples, targets = list(test_dataset.unbatch().shuffle(batch_size * 10).batch(sample))[\n",
    "    0\n",
    "]\n",
    "\n",
    "predicted = baseline_model(examples).numpy()\n",
    "for idx in range(sample):\n",
    "    print(f\"Predicted: {round(float(predicted[idx][0]), 1)} - Actual: {targets[idx]}\")"
   ]
  },
  {
   "cell_type": "code",
   "execution_count": null,
   "id": "frozen-hours",
   "metadata": {},
   "outputs": [],
   "source": []
  }
 ],
 "metadata": {
  "kernelspec": {
   "display_name": "Python [conda env:tensorflow]",
   "language": "python",
   "name": "conda-env-tensorflow-py"
  },
  "language_info": {
   "codemirror_mode": {
    "name": "ipython",
    "version": 3
   },
   "file_extension": ".py",
   "mimetype": "text/x-python",
   "name": "python",
   "nbconvert_exporter": "python",
   "pygments_lexer": "ipython3",
   "version": "3.8.10"
  }
 },
 "nbformat": 4,
 "nbformat_minor": 5
}
